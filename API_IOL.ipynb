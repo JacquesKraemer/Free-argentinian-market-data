{
 "cells": [
  {
   "cell_type": "code",
   "execution_count": null,
   "metadata": {},
   "outputs": [],
   "source": [
    "import requests\n",
    "import pandas as pd\n",
    "import json\n",
    "import plotly.express as px\n",
    "from plotly.subplots import make_subplots\n",
    "\n",
    "\n",
    "# Obtenemos las claves de acceso a la API\n",
    "url = \"https://api.invertironline.com/token\"\n",
    "\n",
    "payload = 'username={tu_usuario}&password={tu_contraseña}*&grant_type=password'\n",
    "headers = {\n",
    "  'Content-Type': 'application/x-www-form-urlencoded',\n",
    "  'Cookie': '1ea603=90N+IRNhzS+ZAlji2JeWwwFHYqnB5ZldfmpPr25mmXPfJx3JyDKWDLm2ANNR0cnLgvJJGe0qOY6g/L/4ppP/uvsPRie6OCjdqveFKwQxSr1ezBsEsymWYUkPcg9hDa8WUnpyEbGvdOsRU3DCvgzlkClGmeRHinBuMlRNLwRye7fv0V3+'\n",
    "}\n",
    "\n",
    "response = requests.request(\"POST\", url, headers=headers, data=payload)\n",
    "# Convertimos la respuesta a JSON\n",
    "response_json = response.json()\n",
    "\n",
    "# KEYS\n",
    "bearer_token = response_json[\"access_token\"]\n",
    "refresh_token = response_json[\"refresh_token\"]"
   ]
  },
  {
   "cell_type": "code",
   "execution_count": 3,
   "metadata": {},
   "outputs": [
    {
     "data": {
      "application/vnd.plotly.v1+json": {
       "config": {
        "plotlyServerURL": "https://plot.ly"
       },
       "data": [
        {
         "alignmentgroup": "True",
         "hovertemplate": "variación=Positivo<br>ticket=%{x}<br>var_porcentual=%{y}<extra></extra>",
         "legendgroup": "Positivo",
         "marker": {
          "color": "green",
          "pattern": {
           "shape": ""
          }
         },
         "name": "Positivo",
         "offsetgroup": "Positivo",
         "orientation": "v",
         "showlegend": true,
         "textposition": "auto",
         "type": "bar",
         "x": [
          "TECO2",
          "CVH",
          "TGSU2",
          "BBAR",
          "COME",
          "YPFD",
          "BYMA",
          "TGNO4",
          "CEPU",
          "TRAN",
          "PAMP",
          "BMA",
          "SUPV",
          "GGAL"
         ],
         "xaxis": "x",
         "y": [
          6.7,
          5.16,
          5.05,
          4.65,
          4.4,
          3.5,
          3.45,
          3.25,
          2.55,
          2.06,
          1.24,
          0.94,
          0.89,
          0.15
         ],
         "yaxis": "y"
        },
        {
         "alignmentgroup": "True",
         "hovertemplate": "variación=Negativo<br>ticket=%{x}<br>var_porcentual=%{y}<extra></extra>",
         "legendgroup": "Negativo",
         "marker": {
          "color": "red",
          "pattern": {
           "shape": ""
          }
         },
         "name": "Negativo",
         "offsetgroup": "Negativo",
         "orientation": "v",
         "showlegend": true,
         "textposition": "auto",
         "type": "bar",
         "x": [
          "MIRG",
          "EDN",
          "CRES",
          "TXAR",
          "ALUA"
         ],
         "xaxis": "x",
         "y": [
          0,
          -0.26,
          -0.41,
          -1.38,
          -1.62
         ],
         "yaxis": "y"
        },
        {
         "hovertemplate": "ticket=%{x}<br>volumen=%{y}<extra></extra>",
         "legendgroup": "",
         "line": {
          "color": "#636efa",
          "dash": "solid"
         },
         "marker": {
          "symbol": "circle"
         },
         "mode": "lines",
         "name": "",
         "orientation": "v",
         "showlegend": false,
         "type": "scatter",
         "x": [
          "TECO2",
          "CVH",
          "TGSU2",
          "BBAR",
          "COME",
          "YPFD",
          "BYMA",
          "TGNO4",
          "CEPU",
          "TRAN",
          "PAMP",
          "BMA",
          "SUPV",
          "GGAL",
          "MIRG",
          "EDN",
          "CRES",
          "TXAR",
          "ALUA"
         ],
         "xaxis": "x2",
         "y": [
          208968,
          52519,
          90120,
          125091,
          1090668,
          80421,
          1302945,
          87653,
          370406,
          208184,
          237645,
          110972,
          249291,
          227903,
          2046,
          156157,
          519725,
          638438,
          344995
         ],
         "yaxis": "y2"
        }
       ],
       "layout": {
        "annotations": [
         {
          "font": {
           "size": 16
          },
          "showarrow": false,
          "text": "Variación % Merval",
          "x": 0.2125,
          "xanchor": "center",
          "xref": "paper",
          "y": 1,
          "yanchor": "bottom",
          "yref": "paper"
         },
         {
          "font": {
           "size": 16
          },
          "showarrow": false,
          "text": "Volumen operado por acción",
          "x": 0.7875,
          "xanchor": "center",
          "xref": "paper",
          "y": 1,
          "yanchor": "bottom",
          "yref": "paper"
         }
        ],
        "height": 500,
        "showlegend": true,
        "template": {
         "data": {
          "bar": [
           {
            "error_x": {
             "color": "#f2f5fa"
            },
            "error_y": {
             "color": "#f2f5fa"
            },
            "marker": {
             "line": {
              "color": "rgb(17,17,17)",
              "width": 0.5
             },
             "pattern": {
              "fillmode": "overlay",
              "size": 10,
              "solidity": 0.2
             }
            },
            "type": "bar"
           }
          ],
          "barpolar": [
           {
            "marker": {
             "line": {
              "color": "rgb(17,17,17)",
              "width": 0.5
             },
             "pattern": {
              "fillmode": "overlay",
              "size": 10,
              "solidity": 0.2
             }
            },
            "type": "barpolar"
           }
          ],
          "carpet": [
           {
            "aaxis": {
             "endlinecolor": "#A2B1C6",
             "gridcolor": "#506784",
             "linecolor": "#506784",
             "minorgridcolor": "#506784",
             "startlinecolor": "#A2B1C6"
            },
            "baxis": {
             "endlinecolor": "#A2B1C6",
             "gridcolor": "#506784",
             "linecolor": "#506784",
             "minorgridcolor": "#506784",
             "startlinecolor": "#A2B1C6"
            },
            "type": "carpet"
           }
          ],
          "choropleth": [
           {
            "colorbar": {
             "outlinewidth": 0,
             "ticks": ""
            },
            "type": "choropleth"
           }
          ],
          "contour": [
           {
            "colorbar": {
             "outlinewidth": 0,
             "ticks": ""
            },
            "colorscale": [
             [
              0,
              "#0d0887"
             ],
             [
              0.1111111111111111,
              "#46039f"
             ],
             [
              0.2222222222222222,
              "#7201a8"
             ],
             [
              0.3333333333333333,
              "#9c179e"
             ],
             [
              0.4444444444444444,
              "#bd3786"
             ],
             [
              0.5555555555555556,
              "#d8576b"
             ],
             [
              0.6666666666666666,
              "#ed7953"
             ],
             [
              0.7777777777777778,
              "#fb9f3a"
             ],
             [
              0.8888888888888888,
              "#fdca26"
             ],
             [
              1,
              "#f0f921"
             ]
            ],
            "type": "contour"
           }
          ],
          "contourcarpet": [
           {
            "colorbar": {
             "outlinewidth": 0,
             "ticks": ""
            },
            "type": "contourcarpet"
           }
          ],
          "heatmap": [
           {
            "colorbar": {
             "outlinewidth": 0,
             "ticks": ""
            },
            "colorscale": [
             [
              0,
              "#0d0887"
             ],
             [
              0.1111111111111111,
              "#46039f"
             ],
             [
              0.2222222222222222,
              "#7201a8"
             ],
             [
              0.3333333333333333,
              "#9c179e"
             ],
             [
              0.4444444444444444,
              "#bd3786"
             ],
             [
              0.5555555555555556,
              "#d8576b"
             ],
             [
              0.6666666666666666,
              "#ed7953"
             ],
             [
              0.7777777777777778,
              "#fb9f3a"
             ],
             [
              0.8888888888888888,
              "#fdca26"
             ],
             [
              1,
              "#f0f921"
             ]
            ],
            "type": "heatmap"
           }
          ],
          "heatmapgl": [
           {
            "colorbar": {
             "outlinewidth": 0,
             "ticks": ""
            },
            "colorscale": [
             [
              0,
              "#0d0887"
             ],
             [
              0.1111111111111111,
              "#46039f"
             ],
             [
              0.2222222222222222,
              "#7201a8"
             ],
             [
              0.3333333333333333,
              "#9c179e"
             ],
             [
              0.4444444444444444,
              "#bd3786"
             ],
             [
              0.5555555555555556,
              "#d8576b"
             ],
             [
              0.6666666666666666,
              "#ed7953"
             ],
             [
              0.7777777777777778,
              "#fb9f3a"
             ],
             [
              0.8888888888888888,
              "#fdca26"
             ],
             [
              1,
              "#f0f921"
             ]
            ],
            "type": "heatmapgl"
           }
          ],
          "histogram": [
           {
            "marker": {
             "pattern": {
              "fillmode": "overlay",
              "size": 10,
              "solidity": 0.2
             }
            },
            "type": "histogram"
           }
          ],
          "histogram2d": [
           {
            "colorbar": {
             "outlinewidth": 0,
             "ticks": ""
            },
            "colorscale": [
             [
              0,
              "#0d0887"
             ],
             [
              0.1111111111111111,
              "#46039f"
             ],
             [
              0.2222222222222222,
              "#7201a8"
             ],
             [
              0.3333333333333333,
              "#9c179e"
             ],
             [
              0.4444444444444444,
              "#bd3786"
             ],
             [
              0.5555555555555556,
              "#d8576b"
             ],
             [
              0.6666666666666666,
              "#ed7953"
             ],
             [
              0.7777777777777778,
              "#fb9f3a"
             ],
             [
              0.8888888888888888,
              "#fdca26"
             ],
             [
              1,
              "#f0f921"
             ]
            ],
            "type": "histogram2d"
           }
          ],
          "histogram2dcontour": [
           {
            "colorbar": {
             "outlinewidth": 0,
             "ticks": ""
            },
            "colorscale": [
             [
              0,
              "#0d0887"
             ],
             [
              0.1111111111111111,
              "#46039f"
             ],
             [
              0.2222222222222222,
              "#7201a8"
             ],
             [
              0.3333333333333333,
              "#9c179e"
             ],
             [
              0.4444444444444444,
              "#bd3786"
             ],
             [
              0.5555555555555556,
              "#d8576b"
             ],
             [
              0.6666666666666666,
              "#ed7953"
             ],
             [
              0.7777777777777778,
              "#fb9f3a"
             ],
             [
              0.8888888888888888,
              "#fdca26"
             ],
             [
              1,
              "#f0f921"
             ]
            ],
            "type": "histogram2dcontour"
           }
          ],
          "mesh3d": [
           {
            "colorbar": {
             "outlinewidth": 0,
             "ticks": ""
            },
            "type": "mesh3d"
           }
          ],
          "parcoords": [
           {
            "line": {
             "colorbar": {
              "outlinewidth": 0,
              "ticks": ""
             }
            },
            "type": "parcoords"
           }
          ],
          "pie": [
           {
            "automargin": true,
            "type": "pie"
           }
          ],
          "scatter": [
           {
            "marker": {
             "line": {
              "color": "#283442"
             }
            },
            "type": "scatter"
           }
          ],
          "scatter3d": [
           {
            "line": {
             "colorbar": {
              "outlinewidth": 0,
              "ticks": ""
             }
            },
            "marker": {
             "colorbar": {
              "outlinewidth": 0,
              "ticks": ""
             }
            },
            "type": "scatter3d"
           }
          ],
          "scattercarpet": [
           {
            "marker": {
             "colorbar": {
              "outlinewidth": 0,
              "ticks": ""
             }
            },
            "type": "scattercarpet"
           }
          ],
          "scattergeo": [
           {
            "marker": {
             "colorbar": {
              "outlinewidth": 0,
              "ticks": ""
             }
            },
            "type": "scattergeo"
           }
          ],
          "scattergl": [
           {
            "marker": {
             "line": {
              "color": "#283442"
             }
            },
            "type": "scattergl"
           }
          ],
          "scattermapbox": [
           {
            "marker": {
             "colorbar": {
              "outlinewidth": 0,
              "ticks": ""
             }
            },
            "type": "scattermapbox"
           }
          ],
          "scatterpolar": [
           {
            "marker": {
             "colorbar": {
              "outlinewidth": 0,
              "ticks": ""
             }
            },
            "type": "scatterpolar"
           }
          ],
          "scatterpolargl": [
           {
            "marker": {
             "colorbar": {
              "outlinewidth": 0,
              "ticks": ""
             }
            },
            "type": "scatterpolargl"
           }
          ],
          "scatterternary": [
           {
            "marker": {
             "colorbar": {
              "outlinewidth": 0,
              "ticks": ""
             }
            },
            "type": "scatterternary"
           }
          ],
          "surface": [
           {
            "colorbar": {
             "outlinewidth": 0,
             "ticks": ""
            },
            "colorscale": [
             [
              0,
              "#0d0887"
             ],
             [
              0.1111111111111111,
              "#46039f"
             ],
             [
              0.2222222222222222,
              "#7201a8"
             ],
             [
              0.3333333333333333,
              "#9c179e"
             ],
             [
              0.4444444444444444,
              "#bd3786"
             ],
             [
              0.5555555555555556,
              "#d8576b"
             ],
             [
              0.6666666666666666,
              "#ed7953"
             ],
             [
              0.7777777777777778,
              "#fb9f3a"
             ],
             [
              0.8888888888888888,
              "#fdca26"
             ],
             [
              1,
              "#f0f921"
             ]
            ],
            "type": "surface"
           }
          ],
          "table": [
           {
            "cells": {
             "fill": {
              "color": "#506784"
             },
             "line": {
              "color": "rgb(17,17,17)"
             }
            },
            "header": {
             "fill": {
              "color": "#2a3f5f"
             },
             "line": {
              "color": "rgb(17,17,17)"
             }
            },
            "type": "table"
           }
          ]
         },
         "layout": {
          "annotationdefaults": {
           "arrowcolor": "#f2f5fa",
           "arrowhead": 0,
           "arrowwidth": 1
          },
          "autotypenumbers": "strict",
          "coloraxis": {
           "colorbar": {
            "outlinewidth": 0,
            "ticks": ""
           }
          },
          "colorscale": {
           "diverging": [
            [
             0,
             "#8e0152"
            ],
            [
             0.1,
             "#c51b7d"
            ],
            [
             0.2,
             "#de77ae"
            ],
            [
             0.3,
             "#f1b6da"
            ],
            [
             0.4,
             "#fde0ef"
            ],
            [
             0.5,
             "#f7f7f7"
            ],
            [
             0.6,
             "#e6f5d0"
            ],
            [
             0.7,
             "#b8e186"
            ],
            [
             0.8,
             "#7fbc41"
            ],
            [
             0.9,
             "#4d9221"
            ],
            [
             1,
             "#276419"
            ]
           ],
           "sequential": [
            [
             0,
             "#0d0887"
            ],
            [
             0.1111111111111111,
             "#46039f"
            ],
            [
             0.2222222222222222,
             "#7201a8"
            ],
            [
             0.3333333333333333,
             "#9c179e"
            ],
            [
             0.4444444444444444,
             "#bd3786"
            ],
            [
             0.5555555555555556,
             "#d8576b"
            ],
            [
             0.6666666666666666,
             "#ed7953"
            ],
            [
             0.7777777777777778,
             "#fb9f3a"
            ],
            [
             0.8888888888888888,
             "#fdca26"
            ],
            [
             1,
             "#f0f921"
            ]
           ],
           "sequentialminus": [
            [
             0,
             "#0d0887"
            ],
            [
             0.1111111111111111,
             "#46039f"
            ],
            [
             0.2222222222222222,
             "#7201a8"
            ],
            [
             0.3333333333333333,
             "#9c179e"
            ],
            [
             0.4444444444444444,
             "#bd3786"
            ],
            [
             0.5555555555555556,
             "#d8576b"
            ],
            [
             0.6666666666666666,
             "#ed7953"
            ],
            [
             0.7777777777777778,
             "#fb9f3a"
            ],
            [
             0.8888888888888888,
             "#fdca26"
            ],
            [
             1,
             "#f0f921"
            ]
           ]
          },
          "colorway": [
           "#636efa",
           "#EF553B",
           "#00cc96",
           "#ab63fa",
           "#FFA15A",
           "#19d3f3",
           "#FF6692",
           "#B6E880",
           "#FF97FF",
           "#FECB52"
          ],
          "font": {
           "color": "#f2f5fa"
          },
          "geo": {
           "bgcolor": "rgb(17,17,17)",
           "lakecolor": "rgb(17,17,17)",
           "landcolor": "rgb(17,17,17)",
           "showlakes": true,
           "showland": true,
           "subunitcolor": "#506784"
          },
          "hoverlabel": {
           "align": "left"
          },
          "hovermode": "closest",
          "mapbox": {
           "style": "dark"
          },
          "paper_bgcolor": "rgb(17,17,17)",
          "plot_bgcolor": "rgb(17,17,17)",
          "polar": {
           "angularaxis": {
            "gridcolor": "#506784",
            "linecolor": "#506784",
            "ticks": ""
           },
           "bgcolor": "rgb(17,17,17)",
           "radialaxis": {
            "gridcolor": "#506784",
            "linecolor": "#506784",
            "ticks": ""
           }
          },
          "scene": {
           "xaxis": {
            "backgroundcolor": "rgb(17,17,17)",
            "gridcolor": "#506784",
            "gridwidth": 2,
            "linecolor": "#506784",
            "showbackground": true,
            "ticks": "",
            "zerolinecolor": "#C8D4E3"
           },
           "yaxis": {
            "backgroundcolor": "rgb(17,17,17)",
            "gridcolor": "#506784",
            "gridwidth": 2,
            "linecolor": "#506784",
            "showbackground": true,
            "ticks": "",
            "zerolinecolor": "#C8D4E3"
           },
           "zaxis": {
            "backgroundcolor": "rgb(17,17,17)",
            "gridcolor": "#506784",
            "gridwidth": 2,
            "linecolor": "#506784",
            "showbackground": true,
            "ticks": "",
            "zerolinecolor": "#C8D4E3"
           }
          },
          "shapedefaults": {
           "line": {
            "color": "#f2f5fa"
           }
          },
          "sliderdefaults": {
           "bgcolor": "#C8D4E3",
           "bordercolor": "rgb(17,17,17)",
           "borderwidth": 1,
           "tickwidth": 0
          },
          "ternary": {
           "aaxis": {
            "gridcolor": "#506784",
            "linecolor": "#506784",
            "ticks": ""
           },
           "baxis": {
            "gridcolor": "#506784",
            "linecolor": "#506784",
            "ticks": ""
           },
           "bgcolor": "rgb(17,17,17)",
           "caxis": {
            "gridcolor": "#506784",
            "linecolor": "#506784",
            "ticks": ""
           }
          },
          "title": {
           "x": 0.05
          },
          "updatemenudefaults": {
           "bgcolor": "#506784",
           "borderwidth": 0
          },
          "xaxis": {
           "automargin": true,
           "gridcolor": "#283442",
           "linecolor": "#506784",
           "ticks": "",
           "title": {
            "standoff": 15
           },
           "zerolinecolor": "#283442",
           "zerolinewidth": 2
          },
          "yaxis": {
           "automargin": true,
           "gridcolor": "#283442",
           "linecolor": "#506784",
           "ticks": "",
           "title": {
            "standoff": 15
           },
           "zerolinecolor": "#283442",
           "zerolinewidth": 2
          }
         }
        },
        "title": {
         "text": "Informe de Acciones Merval - Variación y Volumen"
        },
        "xaxis": {
         "anchor": "y",
         "domain": [
          0,
          0.425
         ],
         "showgrid": false,
         "tickangle": -50
        },
        "xaxis2": {
         "anchor": "y2",
         "domain": [
          0.575,
          1
         ],
         "showgrid": false,
         "tickangle": -50
        },
        "yaxis": {
         "anchor": "x",
         "domain": [
          0,
          1
         ],
         "title": {
          "text": "Variación (%)"
         }
        },
        "yaxis2": {
         "anchor": "x2",
         "domain": [
          0,
          1
         ],
         "title": {
          "text": "Volumen Operado"
         }
        }
       }
      }
     },
     "metadata": {},
     "output_type": "display_data"
    }
   ],
   "source": [
    "# ---------------   PANEL ACCIONES ARGENTINAS  ----------------\n",
    "List_panel_Acciones = [\"Merval\", \"Panel General\", \"Merval 25\", \"Merval Argentina\", \"Burcap\", \"CEDEARs\"]\n",
    "\n",
    "\n",
    "panel_data = []\n",
    "\n",
    "def obtener_panel(instrumento, panel, pais):\n",
    "    \n",
    "    url_panel2 = f\"https://api.invertironline.com/api/Cotizaciones/{instrumento}/{panel}/{pais}\"\n",
    "    \n",
    "    payload = {}\n",
    "    headers = {\n",
    "    'Authorization': f\"Bearer {bearer_token}\",\n",
    "    'Cookie': 'i18n.langtag=es-AR; isMobile=0; 1ea603=2qWeR/Ko7fTv5qFwUUmajFxWKNKtMyB66jJlJwlyFgldqvfrivSOqffj72nSSQ8p18sxZLeNp+m5CDB+KmkD7BxBPsZzBlzrTNpk728p80GSm7j9dYAIvHBuX7tgmx5HVqjmBADYnrBeAlt9fjpu+dxROhkucWhAX8YWLux7ISiIj1gU'\n",
    "    }\n",
    "\n",
    "    response = requests.request(\"GET\", url_panel2, headers=headers, data=payload)\n",
    "    panel_data.append(response.json())\n",
    "\n",
    "obtener_panel(\"Acciones\", List_panel_Acciones[0], \"argentina\")\n",
    "\n",
    "# panel_data_json = json.dumps(panel_data, indent=2)\n",
    "\n",
    "ticket = []\n",
    "volumen = []\n",
    "precio_maximo = []\n",
    "precio_minimo = []\n",
    "ultimo_precio = []\n",
    "var_porcentual = []\n",
    "\n",
    "for titulo in panel_data[0][\"titulos\"]:\n",
    "    \n",
    "    ticket_t = titulo[\"simbolo\"]\n",
    "    ticket.append(ticket_t)\n",
    "     \n",
    "    volumen_t = titulo[\"volumen\"]\n",
    "    volumen.append(volumen_t)\n",
    "    \n",
    "    precio_maximo_t = titulo[\"maximo\"]\n",
    "    precio_maximo.append(precio_maximo_t)\n",
    "    \n",
    "    precio_minimo_t = titulo[\"minimo\"]\n",
    "    precio_minimo.append(precio_minimo_t)\n",
    "    \n",
    "    ultimo_precio_t = titulo[\"ultimoCierre\"]\n",
    "    ultimo_precio.append(ultimo_precio_t)\n",
    "    \n",
    "    var_porcentual_t = titulo[\"variacionPorcentual\"]\n",
    "    var_porcentual.append(var_porcentual_t)\n",
    "\n",
    "data_relevante = pd.DataFrame({\n",
    "    \"ticket\" : ticket, \n",
    "    \"volumen\" : volumen,\n",
    "    \"precio_maximo\" : precio_maximo,\n",
    "    \"precio_minimo\" : precio_minimo,\n",
    "    \"ultimo_precio\" : ultimo_precio,\n",
    "    \"var_porcentual\" : var_porcentual\n",
    "})\n",
    "\n",
    "data_relevante = data_relevante.sort_values(by=\"var_porcentual\", ascending=False)\n",
    "\n",
    "# Agregamos una columna para diferencias variaciones positivas y negativas\n",
    "data_relevante['variación'] = data_relevante['var_porcentual'].apply(lambda x: 'Positivo' if x > 0 else 'Negativo')\n",
    "\n",
    "# Grafico de plotly\n",
    "var_merval = px.bar(\n",
    "    data_relevante, \n",
    "    x=\"ticket\", \n",
    "    y=\"var_porcentual\", \n",
    "    color=\"variación\",  # Color por valor de 'var_porcentual'\n",
    "    title=\"Variación diaria de acciones en el Merval\",\n",
    "    color_discrete_map={'Positivo': 'green', 'Negativo': 'red'})\n",
    "\n",
    "#creamos grafico de lineas para mostrar el volumen operado durante la jornada\n",
    "vol_merval = px.line(data_relevante, \n",
    "                     x=\"ticket\", \n",
    "                     y=\"volumen\", \n",
    "                     title=\"Volumen operado por instrumento\")\n",
    "\n",
    "# Crear subplots y aplicar un tema\n",
    "fig_informe = make_subplots(rows=1, cols=2, \n",
    "                            subplot_titles=(\"Variación % Merval\", \"Volumen operado por acción\"),\n",
    "                            horizontal_spacing=0.15 #especificamos espacio entre columnas del subplot\n",
    "                            )\n",
    "\n",
    "# Agregar los gráficos px a los subplots\n",
    "for var in var_merval.data:\n",
    "    fig_informe.add_trace(var, row=1, col=1)\n",
    "for vol in vol_merval.data:\n",
    "    fig_informe.add_trace(vol, row=1, col=2)\n",
    "    \n",
    "# Personalizar layout general del subplot\n",
    "fig_informe.update_layout(title_text=\"Informe de Acciones Merval - Variación y Volumen\",\n",
    "    showlegend=True,\n",
    "    height=500,\n",
    "    template=\"plotly_dark\")\n",
    "\n",
    "# Configuración de los ejes x para mejorar la legibilidad\n",
    "fig_informe.update_xaxes(\n",
    "    tickangle=-50,  # Girar etiquetas\n",
    "    row=1, col=1,    # Aplicar en el primer gráfico\n",
    "    showgrid=False)\n",
    "\n",
    "fig_informe.update_xaxes(\n",
    "    tickangle=-50,  # Girar etiquetas\n",
    "    row=1, col=2,    # Aplicar en el segundo gráfico\n",
    "    showgrid=False)\n",
    "\n",
    "# Configuración de los ejes y\n",
    "fig_informe.update_yaxes(title_text=\"Variación (%)\", row=1, col=1)\n",
    "\n",
    "fig_informe.update_yaxes(title_text=\"Volumen Operado\", row=1, col=2)\n",
    "\n",
    "fig_informe.show()"
   ]
  },
  {
   "cell_type": "code",
   "execution_count": 4,
   "metadata": {},
   "outputs": [
    {
     "data": {
      "application/vnd.plotly.v1+json": {
       "config": {
        "plotlyServerURL": "https://plot.ly"
       },
       "data": [
        {
         "alignmentgroup": "True",
         "hovertemplate": "variación=positiva<br>ticket=%{x}<br>var_porcentual=%{y}<extra></extra>",
         "legendgroup": "positiva",
         "marker": {
          "color": "green",
          "pattern": {
           "shape": ""
          }
         },
         "name": "positiva",
         "offsetgroup": "positiva",
         "orientation": "v",
         "showlegend": true,
         "textposition": "auto",
         "type": "bar",
         "x": [
          "PAP0",
          "PARP",
          "GD46D",
          "GD46C",
          "GD46",
          "CUAP",
          "TVPA",
          "AE38C",
          "GD41D",
          "AL41C",
          "GD35D",
          "AL35C",
          "AL41D",
          "AL30D",
          "AL35D",
          "AL29D",
          "GD35C",
          "GD30D",
          "AL35",
          "GD38D",
          "GD35",
          "GD29C",
          "AL30C",
          "GD30C",
          "AE38D",
          "AL41",
          "AL29",
          "GD41",
          "GD38C",
          "GD30",
          "GD38",
          "GD29D",
          "AL30",
          "GD41C",
          "GD29"
         ],
         "xaxis": "x",
         "y": [
          10.95,
          3.59,
          2.88,
          2.86,
          2.19,
          2.01,
          1.78,
          1.49,
          1.42,
          1.4,
          1.21,
          1.19,
          1.18,
          1.17,
          1.06,
          1,
          1,
          0.93,
          0.93,
          0.9,
          0.86,
          0.75,
          0.74,
          0.72,
          0.51,
          0.5,
          0.49,
          0.47,
          0.43,
          0.41,
          0.4,
          0.32,
          0.31,
          0.3,
          0.29
         ],
         "yaxis": "y"
        },
        {
         "alignmentgroup": "True",
         "hovertemplate": "variación=negativa<br>ticket=%{x}<br>var_porcentual=%{y}<extra></extra>",
         "legendgroup": "negativa",
         "marker": {
          "color": "red",
          "pattern": {
           "shape": ""
          }
         },
         "name": "negativa",
         "offsetgroup": "negativa",
         "orientation": "v",
         "showlegend": true,
         "textposition": "auto",
         "type": "bar",
         "x": [
          "TVPE",
          "TFU27",
          "AE38",
          "TO26",
          "AL29C",
          "DICP",
          "TVPY",
          "TVPP",
          "CO26",
          "DIP0"
         ],
         "xaxis": "x",
         "y": [
          0,
          0,
          -0.02,
          -0.02,
          -1.01,
          -1.02,
          -1.12,
          -1.3,
          -1.48,
          -2.82
         ],
         "yaxis": "y"
        },
        {
         "alignmentgroup": "True",
         "hovertemplate": "ticket=%{x}<br>volumen=%{y}<extra></extra>",
         "legendgroup": "",
         "marker": {
          "color": "#636efa",
          "pattern": {
           "shape": ""
          }
         },
         "name": "",
         "offsetgroup": "",
         "orientation": "v",
         "showlegend": false,
         "textposition": "auto",
         "type": "bar",
         "x": [
          "PAP0",
          "PARP",
          "GD46D",
          "GD46C",
          "GD46",
          "CUAP",
          "TVPA",
          "AE38C",
          "GD41D",
          "AL41C",
          "GD35D",
          "AL35C",
          "AL41D",
          "AL30D",
          "AL35D",
          "AL29D",
          "GD35C",
          "GD30D",
          "AL35",
          "GD38D",
          "GD35",
          "GD29C",
          "AL30C",
          "GD30C",
          "AE38D",
          "AL41",
          "AL29",
          "GD41",
          "GD38C",
          "GD30",
          "GD38",
          "GD29D",
          "AL30",
          "GD41C",
          "GD29",
          "TVPE",
          "TFU27",
          "AE38",
          "TO26",
          "AL29C",
          "DICP",
          "TVPY",
          "TVPP",
          "CO26",
          "DIP0"
         ],
         "xaxis": "x2",
         "y": [
          8383,
          1137095,
          57085,
          0,
          168632,
          322291,
          146540,
          12304,
          1812000,
          0,
          3862130,
          49,
          2496563,
          5090199,
          1960733,
          289912,
          297590,
          1495046,
          1615066,
          371152,
          10294284,
          0,
          3459826,
          380381,
          1832325,
          815337,
          483527,
          3714055,
          1100,
          5106127,
          6499849,
          116295,
          5358164,
          43350,
          225620,
          6,
          0,
          2534347,
          75531290,
          66,
          682869,
          17170,
          38314666,
          75000,
          6590
         ],
         "yaxis": "y2"
        }
       ],
       "layout": {
        "annotations": [
         {
          "font": {
           "size": 16
          },
          "showarrow": false,
          "text": "Variación % diaria",
          "x": 0.2125,
          "xanchor": "center",
          "xref": "paper",
          "y": 1,
          "yanchor": "bottom",
          "yref": "paper"
         },
         {
          "font": {
           "size": 16
          },
          "showarrow": false,
          "text": "Volumen diario",
          "x": 0.7875,
          "xanchor": "center",
          "xref": "paper",
          "y": 1,
          "yanchor": "bottom",
          "yref": "paper"
         }
        ],
        "height": 500,
        "showlegend": true,
        "template": {
         "data": {
          "bar": [
           {
            "error_x": {
             "color": "#f2f5fa"
            },
            "error_y": {
             "color": "#f2f5fa"
            },
            "marker": {
             "line": {
              "color": "rgb(17,17,17)",
              "width": 0.5
             },
             "pattern": {
              "fillmode": "overlay",
              "size": 10,
              "solidity": 0.2
             }
            },
            "type": "bar"
           }
          ],
          "barpolar": [
           {
            "marker": {
             "line": {
              "color": "rgb(17,17,17)",
              "width": 0.5
             },
             "pattern": {
              "fillmode": "overlay",
              "size": 10,
              "solidity": 0.2
             }
            },
            "type": "barpolar"
           }
          ],
          "carpet": [
           {
            "aaxis": {
             "endlinecolor": "#A2B1C6",
             "gridcolor": "#506784",
             "linecolor": "#506784",
             "minorgridcolor": "#506784",
             "startlinecolor": "#A2B1C6"
            },
            "baxis": {
             "endlinecolor": "#A2B1C6",
             "gridcolor": "#506784",
             "linecolor": "#506784",
             "minorgridcolor": "#506784",
             "startlinecolor": "#A2B1C6"
            },
            "type": "carpet"
           }
          ],
          "choropleth": [
           {
            "colorbar": {
             "outlinewidth": 0,
             "ticks": ""
            },
            "type": "choropleth"
           }
          ],
          "contour": [
           {
            "colorbar": {
             "outlinewidth": 0,
             "ticks": ""
            },
            "colorscale": [
             [
              0,
              "#0d0887"
             ],
             [
              0.1111111111111111,
              "#46039f"
             ],
             [
              0.2222222222222222,
              "#7201a8"
             ],
             [
              0.3333333333333333,
              "#9c179e"
             ],
             [
              0.4444444444444444,
              "#bd3786"
             ],
             [
              0.5555555555555556,
              "#d8576b"
             ],
             [
              0.6666666666666666,
              "#ed7953"
             ],
             [
              0.7777777777777778,
              "#fb9f3a"
             ],
             [
              0.8888888888888888,
              "#fdca26"
             ],
             [
              1,
              "#f0f921"
             ]
            ],
            "type": "contour"
           }
          ],
          "contourcarpet": [
           {
            "colorbar": {
             "outlinewidth": 0,
             "ticks": ""
            },
            "type": "contourcarpet"
           }
          ],
          "heatmap": [
           {
            "colorbar": {
             "outlinewidth": 0,
             "ticks": ""
            },
            "colorscale": [
             [
              0,
              "#0d0887"
             ],
             [
              0.1111111111111111,
              "#46039f"
             ],
             [
              0.2222222222222222,
              "#7201a8"
             ],
             [
              0.3333333333333333,
              "#9c179e"
             ],
             [
              0.4444444444444444,
              "#bd3786"
             ],
             [
              0.5555555555555556,
              "#d8576b"
             ],
             [
              0.6666666666666666,
              "#ed7953"
             ],
             [
              0.7777777777777778,
              "#fb9f3a"
             ],
             [
              0.8888888888888888,
              "#fdca26"
             ],
             [
              1,
              "#f0f921"
             ]
            ],
            "type": "heatmap"
           }
          ],
          "heatmapgl": [
           {
            "colorbar": {
             "outlinewidth": 0,
             "ticks": ""
            },
            "colorscale": [
             [
              0,
              "#0d0887"
             ],
             [
              0.1111111111111111,
              "#46039f"
             ],
             [
              0.2222222222222222,
              "#7201a8"
             ],
             [
              0.3333333333333333,
              "#9c179e"
             ],
             [
              0.4444444444444444,
              "#bd3786"
             ],
             [
              0.5555555555555556,
              "#d8576b"
             ],
             [
              0.6666666666666666,
              "#ed7953"
             ],
             [
              0.7777777777777778,
              "#fb9f3a"
             ],
             [
              0.8888888888888888,
              "#fdca26"
             ],
             [
              1,
              "#f0f921"
             ]
            ],
            "type": "heatmapgl"
           }
          ],
          "histogram": [
           {
            "marker": {
             "pattern": {
              "fillmode": "overlay",
              "size": 10,
              "solidity": 0.2
             }
            },
            "type": "histogram"
           }
          ],
          "histogram2d": [
           {
            "colorbar": {
             "outlinewidth": 0,
             "ticks": ""
            },
            "colorscale": [
             [
              0,
              "#0d0887"
             ],
             [
              0.1111111111111111,
              "#46039f"
             ],
             [
              0.2222222222222222,
              "#7201a8"
             ],
             [
              0.3333333333333333,
              "#9c179e"
             ],
             [
              0.4444444444444444,
              "#bd3786"
             ],
             [
              0.5555555555555556,
              "#d8576b"
             ],
             [
              0.6666666666666666,
              "#ed7953"
             ],
             [
              0.7777777777777778,
              "#fb9f3a"
             ],
             [
              0.8888888888888888,
              "#fdca26"
             ],
             [
              1,
              "#f0f921"
             ]
            ],
            "type": "histogram2d"
           }
          ],
          "histogram2dcontour": [
           {
            "colorbar": {
             "outlinewidth": 0,
             "ticks": ""
            },
            "colorscale": [
             [
              0,
              "#0d0887"
             ],
             [
              0.1111111111111111,
              "#46039f"
             ],
             [
              0.2222222222222222,
              "#7201a8"
             ],
             [
              0.3333333333333333,
              "#9c179e"
             ],
             [
              0.4444444444444444,
              "#bd3786"
             ],
             [
              0.5555555555555556,
              "#d8576b"
             ],
             [
              0.6666666666666666,
              "#ed7953"
             ],
             [
              0.7777777777777778,
              "#fb9f3a"
             ],
             [
              0.8888888888888888,
              "#fdca26"
             ],
             [
              1,
              "#f0f921"
             ]
            ],
            "type": "histogram2dcontour"
           }
          ],
          "mesh3d": [
           {
            "colorbar": {
             "outlinewidth": 0,
             "ticks": ""
            },
            "type": "mesh3d"
           }
          ],
          "parcoords": [
           {
            "line": {
             "colorbar": {
              "outlinewidth": 0,
              "ticks": ""
             }
            },
            "type": "parcoords"
           }
          ],
          "pie": [
           {
            "automargin": true,
            "type": "pie"
           }
          ],
          "scatter": [
           {
            "marker": {
             "line": {
              "color": "#283442"
             }
            },
            "type": "scatter"
           }
          ],
          "scatter3d": [
           {
            "line": {
             "colorbar": {
              "outlinewidth": 0,
              "ticks": ""
             }
            },
            "marker": {
             "colorbar": {
              "outlinewidth": 0,
              "ticks": ""
             }
            },
            "type": "scatter3d"
           }
          ],
          "scattercarpet": [
           {
            "marker": {
             "colorbar": {
              "outlinewidth": 0,
              "ticks": ""
             }
            },
            "type": "scattercarpet"
           }
          ],
          "scattergeo": [
           {
            "marker": {
             "colorbar": {
              "outlinewidth": 0,
              "ticks": ""
             }
            },
            "type": "scattergeo"
           }
          ],
          "scattergl": [
           {
            "marker": {
             "line": {
              "color": "#283442"
             }
            },
            "type": "scattergl"
           }
          ],
          "scattermapbox": [
           {
            "marker": {
             "colorbar": {
              "outlinewidth": 0,
              "ticks": ""
             }
            },
            "type": "scattermapbox"
           }
          ],
          "scatterpolar": [
           {
            "marker": {
             "colorbar": {
              "outlinewidth": 0,
              "ticks": ""
             }
            },
            "type": "scatterpolar"
           }
          ],
          "scatterpolargl": [
           {
            "marker": {
             "colorbar": {
              "outlinewidth": 0,
              "ticks": ""
             }
            },
            "type": "scatterpolargl"
           }
          ],
          "scatterternary": [
           {
            "marker": {
             "colorbar": {
              "outlinewidth": 0,
              "ticks": ""
             }
            },
            "type": "scatterternary"
           }
          ],
          "surface": [
           {
            "colorbar": {
             "outlinewidth": 0,
             "ticks": ""
            },
            "colorscale": [
             [
              0,
              "#0d0887"
             ],
             [
              0.1111111111111111,
              "#46039f"
             ],
             [
              0.2222222222222222,
              "#7201a8"
             ],
             [
              0.3333333333333333,
              "#9c179e"
             ],
             [
              0.4444444444444444,
              "#bd3786"
             ],
             [
              0.5555555555555556,
              "#d8576b"
             ],
             [
              0.6666666666666666,
              "#ed7953"
             ],
             [
              0.7777777777777778,
              "#fb9f3a"
             ],
             [
              0.8888888888888888,
              "#fdca26"
             ],
             [
              1,
              "#f0f921"
             ]
            ],
            "type": "surface"
           }
          ],
          "table": [
           {
            "cells": {
             "fill": {
              "color": "#506784"
             },
             "line": {
              "color": "rgb(17,17,17)"
             }
            },
            "header": {
             "fill": {
              "color": "#2a3f5f"
             },
             "line": {
              "color": "rgb(17,17,17)"
             }
            },
            "type": "table"
           }
          ]
         },
         "layout": {
          "annotationdefaults": {
           "arrowcolor": "#f2f5fa",
           "arrowhead": 0,
           "arrowwidth": 1
          },
          "autotypenumbers": "strict",
          "coloraxis": {
           "colorbar": {
            "outlinewidth": 0,
            "ticks": ""
           }
          },
          "colorscale": {
           "diverging": [
            [
             0,
             "#8e0152"
            ],
            [
             0.1,
             "#c51b7d"
            ],
            [
             0.2,
             "#de77ae"
            ],
            [
             0.3,
             "#f1b6da"
            ],
            [
             0.4,
             "#fde0ef"
            ],
            [
             0.5,
             "#f7f7f7"
            ],
            [
             0.6,
             "#e6f5d0"
            ],
            [
             0.7,
             "#b8e186"
            ],
            [
             0.8,
             "#7fbc41"
            ],
            [
             0.9,
             "#4d9221"
            ],
            [
             1,
             "#276419"
            ]
           ],
           "sequential": [
            [
             0,
             "#0d0887"
            ],
            [
             0.1111111111111111,
             "#46039f"
            ],
            [
             0.2222222222222222,
             "#7201a8"
            ],
            [
             0.3333333333333333,
             "#9c179e"
            ],
            [
             0.4444444444444444,
             "#bd3786"
            ],
            [
             0.5555555555555556,
             "#d8576b"
            ],
            [
             0.6666666666666666,
             "#ed7953"
            ],
            [
             0.7777777777777778,
             "#fb9f3a"
            ],
            [
             0.8888888888888888,
             "#fdca26"
            ],
            [
             1,
             "#f0f921"
            ]
           ],
           "sequentialminus": [
            [
             0,
             "#0d0887"
            ],
            [
             0.1111111111111111,
             "#46039f"
            ],
            [
             0.2222222222222222,
             "#7201a8"
            ],
            [
             0.3333333333333333,
             "#9c179e"
            ],
            [
             0.4444444444444444,
             "#bd3786"
            ],
            [
             0.5555555555555556,
             "#d8576b"
            ],
            [
             0.6666666666666666,
             "#ed7953"
            ],
            [
             0.7777777777777778,
             "#fb9f3a"
            ],
            [
             0.8888888888888888,
             "#fdca26"
            ],
            [
             1,
             "#f0f921"
            ]
           ]
          },
          "colorway": [
           "#636efa",
           "#EF553B",
           "#00cc96",
           "#ab63fa",
           "#FFA15A",
           "#19d3f3",
           "#FF6692",
           "#B6E880",
           "#FF97FF",
           "#FECB52"
          ],
          "font": {
           "color": "#f2f5fa"
          },
          "geo": {
           "bgcolor": "rgb(17,17,17)",
           "lakecolor": "rgb(17,17,17)",
           "landcolor": "rgb(17,17,17)",
           "showlakes": true,
           "showland": true,
           "subunitcolor": "#506784"
          },
          "hoverlabel": {
           "align": "left"
          },
          "hovermode": "closest",
          "mapbox": {
           "style": "dark"
          },
          "paper_bgcolor": "rgb(17,17,17)",
          "plot_bgcolor": "rgb(17,17,17)",
          "polar": {
           "angularaxis": {
            "gridcolor": "#506784",
            "linecolor": "#506784",
            "ticks": ""
           },
           "bgcolor": "rgb(17,17,17)",
           "radialaxis": {
            "gridcolor": "#506784",
            "linecolor": "#506784",
            "ticks": ""
           }
          },
          "scene": {
           "xaxis": {
            "backgroundcolor": "rgb(17,17,17)",
            "gridcolor": "#506784",
            "gridwidth": 2,
            "linecolor": "#506784",
            "showbackground": true,
            "ticks": "",
            "zerolinecolor": "#C8D4E3"
           },
           "yaxis": {
            "backgroundcolor": "rgb(17,17,17)",
            "gridcolor": "#506784",
            "gridwidth": 2,
            "linecolor": "#506784",
            "showbackground": true,
            "ticks": "",
            "zerolinecolor": "#C8D4E3"
           },
           "zaxis": {
            "backgroundcolor": "rgb(17,17,17)",
            "gridcolor": "#506784",
            "gridwidth": 2,
            "linecolor": "#506784",
            "showbackground": true,
            "ticks": "",
            "zerolinecolor": "#C8D4E3"
           }
          },
          "shapedefaults": {
           "line": {
            "color": "#f2f5fa"
           }
          },
          "sliderdefaults": {
           "bgcolor": "#C8D4E3",
           "bordercolor": "rgb(17,17,17)",
           "borderwidth": 1,
           "tickwidth": 0
          },
          "ternary": {
           "aaxis": {
            "gridcolor": "#506784",
            "linecolor": "#506784",
            "ticks": ""
           },
           "baxis": {
            "gridcolor": "#506784",
            "linecolor": "#506784",
            "ticks": ""
           },
           "bgcolor": "rgb(17,17,17)",
           "caxis": {
            "gridcolor": "#506784",
            "linecolor": "#506784",
            "ticks": ""
           }
          },
          "title": {
           "x": 0.05
          },
          "updatemenudefaults": {
           "bgcolor": "#506784",
           "borderwidth": 0
          },
          "xaxis": {
           "automargin": true,
           "gridcolor": "#283442",
           "linecolor": "#506784",
           "ticks": "",
           "title": {
            "standoff": 15
           },
           "zerolinecolor": "#283442",
           "zerolinewidth": 2
          },
          "yaxis": {
           "automargin": true,
           "gridcolor": "#283442",
           "linecolor": "#506784",
           "ticks": "",
           "title": {
            "standoff": 15
           },
           "zerolinecolor": "#283442",
           "zerolinewidth": 2
          }
         }
        },
        "title": {
         "text": "Informe diario de bonos - Variación y Volumen",
         "x": 0.5,
         "xanchor": "center"
        },
        "width": 900,
        "xaxis": {
         "anchor": "y",
         "domain": [
          0,
          0.425
         ],
         "showgrid": false,
         "tickangle": -50
        },
        "xaxis2": {
         "anchor": "y2",
         "domain": [
          0.575,
          1
         ],
         "showgrid": false,
         "tickangle": -50
        },
        "yaxis": {
         "anchor": "x",
         "domain": [
          0,
          1
         ],
         "title": {
          "text": "Variación (%)"
         }
        },
        "yaxis2": {
         "anchor": "x2",
         "domain": [
          0,
          1
         ],
         "title": {
          "text": "Volumen Operado"
         }
        }
       }
      }
     },
     "metadata": {},
     "output_type": "display_data"
    }
   ],
   "source": [
    "# ---------------   PANEL BONOS ARGENTINOS  ----------------\n",
    "List_panel_Bonos =[\"Soberanos en pesos más Cer\",\"Soberanos en pesos a tasa variable\", \"Soberanos en pesos a tasa fija\",\n",
    "                      \"Soberanos en dólares\", \"Soberanos dolar linked\", \"Provinciales en pesos\", \"Provinciales dolar linked\", \n",
    "                      \"Provinciales en dólares\", \"Provinciales en euros\", \"Cupones vinculados al PBI\", \"Bonos corporativos en pesos\",\n",
    "                      \"Bonos corporativos en dólares\"]\n",
    "\n",
    "panel_bonos_data = []\n",
    "\n",
    "def obtener_panel_bonos(instrumento, panel, pais):\n",
    "    \n",
    "    url_panel2 = f\"https://api.invertironline.com/api/Cotizaciones/{instrumento}/{panel}/{pais}\"\n",
    "    \n",
    "    payload = {}\n",
    "    headers = {\n",
    "    'Authorization': f\"Bearer {bearer_token}\",\n",
    "    'Cookie': 'i18n.langtag=es-AR; isMobile=0; 1ea603=2qWeR/Ko7fTv5qFwUUmajFxWKNKtMyB66jJlJwlyFgldqvfrivSOqffj72nSSQ8p18sxZLeNp+m5CDB+KmkD7BxBPsZzBlzrTNpk728p80GSm7j9dYAIvHBuX7tgmx5HVqjmBADYnrBeAlt9fjpu+dxROhkucWhAX8YWLux7ISiIj1gU'\n",
    "    }\n",
    "\n",
    "    response = requests.request(\"GET\", url_panel2, headers=headers, data=payload)\n",
    "    panel_bonos_data.append(response.json())\n",
    "\n",
    "for descripcion in List_panel_Bonos:\n",
    "    obtener_panel_bonos(\"Bonos\", descripcion, \"argentina\")\n",
    "\n",
    "ticket = []\n",
    "descripcion = []\n",
    "volumen = []\n",
    "precio_maximo = []\n",
    "precio_minimo = []\n",
    "ultimo_precio = []\n",
    "var_porcentual = []\n",
    "\n",
    "for index, block in enumerate(panel_bonos_data): # ENUMERATE: Permite utilizar los indices de la lista para iterar y obtener los valores de la lista.\n",
    "    for titulo in block[\"titulos\"]:\n",
    "        try:\n",
    "            ticket_t = titulo[\"simbolo\"]\n",
    "            ticket.append(ticket_t)\n",
    "            \n",
    "            descripcion_b = List_panel_Bonos[index] \n",
    "            descripcion.append(descripcion_b)\n",
    "            \n",
    "            volumen_t = titulo[\"volumen\"]\n",
    "            volumen.append(volumen_t)\n",
    "            \n",
    "            precio_maximo_t = titulo[\"maximo\"]\n",
    "            precio_maximo.append(precio_maximo_t)\n",
    "            \n",
    "            precio_minimo_t = titulo[\"minimo\"]\n",
    "            precio_minimo.append(precio_minimo_t)\n",
    "            \n",
    "            ultimo_precio_t = titulo[\"ultimoCierre\"]\n",
    "            ultimo_precio.append(ultimo_precio_t)\n",
    "            \n",
    "            var_porcentual_t = titulo[\"variacionPorcentual\"]\n",
    "            var_porcentual.append(var_porcentual_t)\n",
    "        except Exception:\n",
    "            pass\n",
    "\n",
    "data_bonos = pd.DataFrame({\n",
    "    \"ticket\" : ticket, \n",
    "    \"volumen\" : volumen,\n",
    "    \"descripcion\" : descripcion,\n",
    "    \"precio_maximo\" : precio_maximo,\n",
    "    \"precio_minimo\" : precio_minimo,\n",
    "    \"ultimo_precio\" : ultimo_precio,\n",
    "    \"var_porcentual\" : var_porcentual})\n",
    "\n",
    "data_bonos[\"variación\"] = [\"positiva\" if value > 0 else \"negativa\" for value in var_porcentual]\n",
    "data_bonos = data_bonos.sort_values(by=\"var_porcentual\", ascending=False)\n",
    "\n",
    "var_bonos = px.bar(data_bonos,\n",
    "                   x=\"ticket\", y=\"var_porcentual\",\n",
    "                   color=\"variación\",\n",
    "                   color_discrete_map={'positiva': 'green', 'negativa': 'red'})\n",
    "vol_bonos = px.bar(data_bonos,\n",
    "                   x=\"ticket\", y=\"volumen\",\n",
    "                   title=\"Volumen diario - Bonos\")\n",
    "\n",
    "# Crear subplots\n",
    "fig_informe = make_subplots(rows=1, cols=2, \n",
    "                            subplot_titles=(\"Variación % diaria\", \"Volumen diario\"),\n",
    "                            horizontal_spacing=0.15)\n",
    "\n",
    "for var in var_bonos.data:\n",
    "    fig_informe.add_trace(var, row=1, col=1)\n",
    "for vol in vol_bonos.data:\n",
    "    fig_informe.add_trace(vol, row=1, col=2)\n",
    "    \n",
    "# Personalizar layout del subplot\n",
    "fig_informe.update_layout(\n",
    "    title={\"text\":\"Informe diario de bonos - Variación y Volumen\",\n",
    "           'x': 0.5,\n",
    "           'xanchor': 'center'},\n",
    "    showlegend=True,\n",
    "    height=500,\n",
    "    width=900,\n",
    "    template=\"plotly_dark\")\n",
    "\n",
    "# Configuración de los ejes x\n",
    "fig_informe.update_xaxes(tickangle=-50, row=1, col=1, showgrid=False)\n",
    "fig_informe.update_xaxes(tickangle=-50, row=1, col=2, showgrid=False)\n",
    "\n",
    "# Configuración de los ejes y\n",
    "fig_informe.update_yaxes(title_text=\"Variación (%)\", row=1, col=1)\n",
    "fig_informe.update_yaxes(title_text=\"Volumen Operado\", row=1, col=2)\n",
    "\n",
    "fig_informe.show()"
   ]
  }
 ],
 "metadata": {
  "kernelspec": {
   "display_name": ".bolsa_venv",
   "language": "python",
   "name": "python3"
  },
  "language_info": {
   "codemirror_mode": {
    "name": "ipython",
    "version": 3
   },
   "file_extension": ".py",
   "mimetype": "text/x-python",
   "name": "python",
   "nbconvert_exporter": "python",
   "pygments_lexer": "ipython3",
   "version": "3.11.4"
  }
 },
 "nbformat": 4,
 "nbformat_minor": 2
}
