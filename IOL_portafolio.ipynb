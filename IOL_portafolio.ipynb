{
 "cells": [
  {
   "cell_type": "code",
   "execution_count": null,
   "metadata": {},
   "outputs": [
    {
     "data": {
      "application/vnd.plotly.v1+json": {
       "config": {
        "plotlyServerURL": "https://plot.ly"
       },
       "data": [
        {
         "domain": {
          "x": [
           0,
           0.45
          ],
          "y": [
           0.55,
           1
          ]
         },
         "hovertemplate": "tipo=%{label}<br>valor_total=%{value}<extra></extra>",
         "labels": [
          "ACCIONES",
          "ACCIONES",
          "ACCIONES",
          "TitulosPublicos"
         ],
         "legendgroup": "",
         "name": "",
         "showlegend": true,
         "type": "pie",
         "values": [
          7650,
          18250,
          6460,
          8417.55
         ]
        },
        {
         "alignmentgroup": "True",
         "cliponaxis": false,
         "hovertemplate": "ticket=%{text}<br>tipo=%{x}<br>ganancia_porcentual=%{y}<extra></extra>",
         "legendgroup": "CEPU",
         "marker": {
          "color": "rgb(228,26,28)",
          "pattern": {
           "shape": ""
          }
         },
         "name": "CEPU",
         "offsetgroup": "CEPU",
         "orientation": "v",
         "showlegend": false,
         "text": [
          "CEPU"
         ],
         "textangle": 0,
         "textfont": {
          "size": 12
         },
         "textposition": "inside",
         "type": "bar",
         "x": [
          "ACCIONES"
         ],
         "xaxis": "x",
         "y": [
          16.79
         ],
         "yaxis": "y"
        },
        {
         "alignmentgroup": "True",
         "cliponaxis": false,
         "hovertemplate": "ticket=%{text}<br>tipo=%{x}<br>ganancia_porcentual=%{y}<extra></extra>",
         "legendgroup": "PAMP",
         "marker": {
          "color": "rgb(55,126,184)",
          "pattern": {
           "shape": ""
          }
         },
         "name": "PAMP",
         "offsetgroup": "PAMP",
         "orientation": "v",
         "showlegend": false,
         "text": [
          "PAMP"
         ],
         "textangle": 0,
         "textfont": {
          "size": 12
         },
         "textposition": "inside",
         "type": "bar",
         "x": [
          "ACCIONES"
         ],
         "xaxis": "x",
         "y": [
          111.83
         ],
         "yaxis": "y"
        },
        {
         "alignmentgroup": "True",
         "cliponaxis": false,
         "hovertemplate": "ticket=%{text}<br>tipo=%{x}<br>ganancia_porcentual=%{y}<extra></extra>",
         "legendgroup": "TGSU2",
         "marker": {
          "color": "rgb(77,175,74)",
          "pattern": {
           "shape": ""
          }
         },
         "name": "TGSU2",
         "offsetgroup": "TGSU2",
         "orientation": "v",
         "showlegend": false,
         "text": [
          "TGSU2"
         ],
         "textangle": 0,
         "textfont": {
          "size": 12
         },
         "textposition": "inside",
         "type": "bar",
         "x": [
          "ACCIONES"
         ],
         "xaxis": "x",
         "y": [
          26.91
         ],
         "yaxis": "y"
        },
        {
         "alignmentgroup": "True",
         "cliponaxis": false,
         "hovertemplate": "ticket=%{text}<br>tipo=%{x}<br>ganancia_porcentual=%{y}<extra></extra>",
         "legendgroup": "TX26",
         "marker": {
          "color": "rgb(152,78,163)",
          "pattern": {
           "shape": ""
          }
         },
         "name": "TX26",
         "offsetgroup": "TX26",
         "orientation": "v",
         "showlegend": false,
         "text": [
          "TX26"
         ],
         "textangle": 0,
         "textfont": {
          "size": 12
         },
         "textposition": "inside",
         "type": "bar",
         "x": [
          "TitulosPublicos"
         ],
         "xaxis": "x",
         "y": [
          -14.39
         ],
         "yaxis": "y"
        },
        {
         "alignmentgroup": "True",
         "hovertemplate": "ticket=%{x}<br>ganancia_monetaria=%{y}<extra></extra>",
         "legendgroup": "CEPU",
         "marker": {
          "color": "#636efa",
          "pattern": {
           "shape": ""
          }
         },
         "name": "CEPU",
         "offsetgroup": "CEPU",
         "orientation": "v",
         "showlegend": false,
         "textposition": "auto",
         "type": "bar",
         "x": [
          "CEPU"
         ],
         "xaxis": "x2",
         "y": [
          1100
         ],
         "yaxis": "y2"
        },
        {
         "alignmentgroup": "True",
         "hovertemplate": "ticket=%{x}<br>ganancia_monetaria=%{y}<extra></extra>",
         "legendgroup": "PAMP",
         "marker": {
          "color": "#EF553B",
          "pattern": {
           "shape": ""
          }
         },
         "name": "PAMP",
         "offsetgroup": "PAMP",
         "orientation": "v",
         "showlegend": false,
         "textposition": "auto",
         "type": "bar",
         "x": [
          "PAMP"
         ],
         "xaxis": "x2",
         "y": [
          9635
         ],
         "yaxis": "y2"
        },
        {
         "alignmentgroup": "True",
         "hovertemplate": "ticket=%{x}<br>ganancia_monetaria=%{y}<extra></extra>",
         "legendgroup": "TGSU2",
         "marker": {
          "color": "#00cc96",
          "pattern": {
           "shape": ""
          }
         },
         "name": "TGSU2",
         "offsetgroup": "TGSU2",
         "orientation": "v",
         "showlegend": false,
         "textposition": "auto",
         "type": "bar",
         "x": [
          "TGSU2"
         ],
         "xaxis": "x2",
         "y": [
          1370
         ],
         "yaxis": "y2"
        },
        {
         "alignmentgroup": "True",
         "hovertemplate": "ticket=%{x}<br>ganancia_monetaria=%{y}<extra></extra>",
         "legendgroup": "TX26",
         "marker": {
          "color": "#ab63fa",
          "pattern": {
           "shape": ""
          }
         },
         "name": "TX26",
         "offsetgroup": "TX26",
         "orientation": "v",
         "showlegend": false,
         "textposition": "auto",
         "type": "bar",
         "x": [
          "TX26"
         ],
         "xaxis": "x2",
         "y": [
          -1415.25
         ],
         "yaxis": "y2"
        }
       ],
       "layout": {
        "annotations": [
         {
          "font": {
           "color": "white",
           "family": "Arial",
           "size": 15
          },
          "showarrow": false,
          "text": "Composición del portafolio",
          "x": 0.225,
          "xanchor": "center",
          "xref": "paper",
          "y": 1.02,
          "yanchor": "bottom",
          "yref": "paper"
         },
         {
          "font": {
           "color": "white",
           "family": "Arial",
           "size": 15
          },
          "showarrow": false,
          "text": "Ganancia % por tipo de activo",
          "x": 0.225,
          "xanchor": "center",
          "xref": "paper",
          "y": 0.47000000000000003,
          "yanchor": "bottom",
          "yref": "paper"
         },
         {
          "font": {
           "color": "white",
           "family": "Arial",
           "size": 15
          },
          "showarrow": false,
          "text": "Ganancia monetaria por ticket",
          "x": 0.775,
          "xanchor": "center",
          "xref": "paper",
          "y": 0.47000000000000003,
          "yanchor": "bottom",
          "yref": "paper"
         }
        ],
        "bargap": 0,
        "bargroupgap": 0.1,
        "height": 800,
        "legend": {
         "bgcolor": "rgba(0, 0, 0, 0.5)",
         "bordercolor": "white",
         "borderwidth": 0.5,
         "font": {
          "color": "white",
          "family": "Arial",
          "size": 12
         },
         "orientation": "v",
         "title": {
          "text": "Tipos de Activo"
         },
         "x": 0.6,
         "y": 0.9
        },
        "template": {
         "data": {
          "bar": [
           {
            "error_x": {
             "color": "#f2f5fa"
            },
            "error_y": {
             "color": "#f2f5fa"
            },
            "marker": {
             "line": {
              "color": "rgb(17,17,17)",
              "width": 0.5
             },
             "pattern": {
              "fillmode": "overlay",
              "size": 10,
              "solidity": 0.2
             }
            },
            "type": "bar"
           }
          ],
          "barpolar": [
           {
            "marker": {
             "line": {
              "color": "rgb(17,17,17)",
              "width": 0.5
             },
             "pattern": {
              "fillmode": "overlay",
              "size": 10,
              "solidity": 0.2
             }
            },
            "type": "barpolar"
           }
          ],
          "carpet": [
           {
            "aaxis": {
             "endlinecolor": "#A2B1C6",
             "gridcolor": "#506784",
             "linecolor": "#506784",
             "minorgridcolor": "#506784",
             "startlinecolor": "#A2B1C6"
            },
            "baxis": {
             "endlinecolor": "#A2B1C6",
             "gridcolor": "#506784",
             "linecolor": "#506784",
             "minorgridcolor": "#506784",
             "startlinecolor": "#A2B1C6"
            },
            "type": "carpet"
           }
          ],
          "choropleth": [
           {
            "colorbar": {
             "outlinewidth": 0,
             "ticks": ""
            },
            "type": "choropleth"
           }
          ],
          "contour": [
           {
            "colorbar": {
             "outlinewidth": 0,
             "ticks": ""
            },
            "colorscale": [
             [
              0,
              "#0d0887"
             ],
             [
              0.1111111111111111,
              "#46039f"
             ],
             [
              0.2222222222222222,
              "#7201a8"
             ],
             [
              0.3333333333333333,
              "#9c179e"
             ],
             [
              0.4444444444444444,
              "#bd3786"
             ],
             [
              0.5555555555555556,
              "#d8576b"
             ],
             [
              0.6666666666666666,
              "#ed7953"
             ],
             [
              0.7777777777777778,
              "#fb9f3a"
             ],
             [
              0.8888888888888888,
              "#fdca26"
             ],
             [
              1,
              "#f0f921"
             ]
            ],
            "type": "contour"
           }
          ],
          "contourcarpet": [
           {
            "colorbar": {
             "outlinewidth": 0,
             "ticks": ""
            },
            "type": "contourcarpet"
           }
          ],
          "heatmap": [
           {
            "colorbar": {
             "outlinewidth": 0,
             "ticks": ""
            },
            "colorscale": [
             [
              0,
              "#0d0887"
             ],
             [
              0.1111111111111111,
              "#46039f"
             ],
             [
              0.2222222222222222,
              "#7201a8"
             ],
             [
              0.3333333333333333,
              "#9c179e"
             ],
             [
              0.4444444444444444,
              "#bd3786"
             ],
             [
              0.5555555555555556,
              "#d8576b"
             ],
             [
              0.6666666666666666,
              "#ed7953"
             ],
             [
              0.7777777777777778,
              "#fb9f3a"
             ],
             [
              0.8888888888888888,
              "#fdca26"
             ],
             [
              1,
              "#f0f921"
             ]
            ],
            "type": "heatmap"
           }
          ],
          "heatmapgl": [
           {
            "colorbar": {
             "outlinewidth": 0,
             "ticks": ""
            },
            "colorscale": [
             [
              0,
              "#0d0887"
             ],
             [
              0.1111111111111111,
              "#46039f"
             ],
             [
              0.2222222222222222,
              "#7201a8"
             ],
             [
              0.3333333333333333,
              "#9c179e"
             ],
             [
              0.4444444444444444,
              "#bd3786"
             ],
             [
              0.5555555555555556,
              "#d8576b"
             ],
             [
              0.6666666666666666,
              "#ed7953"
             ],
             [
              0.7777777777777778,
              "#fb9f3a"
             ],
             [
              0.8888888888888888,
              "#fdca26"
             ],
             [
              1,
              "#f0f921"
             ]
            ],
            "type": "heatmapgl"
           }
          ],
          "histogram": [
           {
            "marker": {
             "pattern": {
              "fillmode": "overlay",
              "size": 10,
              "solidity": 0.2
             }
            },
            "type": "histogram"
           }
          ],
          "histogram2d": [
           {
            "colorbar": {
             "outlinewidth": 0,
             "ticks": ""
            },
            "colorscale": [
             [
              0,
              "#0d0887"
             ],
             [
              0.1111111111111111,
              "#46039f"
             ],
             [
              0.2222222222222222,
              "#7201a8"
             ],
             [
              0.3333333333333333,
              "#9c179e"
             ],
             [
              0.4444444444444444,
              "#bd3786"
             ],
             [
              0.5555555555555556,
              "#d8576b"
             ],
             [
              0.6666666666666666,
              "#ed7953"
             ],
             [
              0.7777777777777778,
              "#fb9f3a"
             ],
             [
              0.8888888888888888,
              "#fdca26"
             ],
             [
              1,
              "#f0f921"
             ]
            ],
            "type": "histogram2d"
           }
          ],
          "histogram2dcontour": [
           {
            "colorbar": {
             "outlinewidth": 0,
             "ticks": ""
            },
            "colorscale": [
             [
              0,
              "#0d0887"
             ],
             [
              0.1111111111111111,
              "#46039f"
             ],
             [
              0.2222222222222222,
              "#7201a8"
             ],
             [
              0.3333333333333333,
              "#9c179e"
             ],
             [
              0.4444444444444444,
              "#bd3786"
             ],
             [
              0.5555555555555556,
              "#d8576b"
             ],
             [
              0.6666666666666666,
              "#ed7953"
             ],
             [
              0.7777777777777778,
              "#fb9f3a"
             ],
             [
              0.8888888888888888,
              "#fdca26"
             ],
             [
              1,
              "#f0f921"
             ]
            ],
            "type": "histogram2dcontour"
           }
          ],
          "mesh3d": [
           {
            "colorbar": {
             "outlinewidth": 0,
             "ticks": ""
            },
            "type": "mesh3d"
           }
          ],
          "parcoords": [
           {
            "line": {
             "colorbar": {
              "outlinewidth": 0,
              "ticks": ""
             }
            },
            "type": "parcoords"
           }
          ],
          "pie": [
           {
            "automargin": true,
            "type": "pie"
           }
          ],
          "scatter": [
           {
            "marker": {
             "line": {
              "color": "#283442"
             }
            },
            "type": "scatter"
           }
          ],
          "scatter3d": [
           {
            "line": {
             "colorbar": {
              "outlinewidth": 0,
              "ticks": ""
             }
            },
            "marker": {
             "colorbar": {
              "outlinewidth": 0,
              "ticks": ""
             }
            },
            "type": "scatter3d"
           }
          ],
          "scattercarpet": [
           {
            "marker": {
             "colorbar": {
              "outlinewidth": 0,
              "ticks": ""
             }
            },
            "type": "scattercarpet"
           }
          ],
          "scattergeo": [
           {
            "marker": {
             "colorbar": {
              "outlinewidth": 0,
              "ticks": ""
             }
            },
            "type": "scattergeo"
           }
          ],
          "scattergl": [
           {
            "marker": {
             "line": {
              "color": "#283442"
             }
            },
            "type": "scattergl"
           }
          ],
          "scattermapbox": [
           {
            "marker": {
             "colorbar": {
              "outlinewidth": 0,
              "ticks": ""
             }
            },
            "type": "scattermapbox"
           }
          ],
          "scatterpolar": [
           {
            "marker": {
             "colorbar": {
              "outlinewidth": 0,
              "ticks": ""
             }
            },
            "type": "scatterpolar"
           }
          ],
          "scatterpolargl": [
           {
            "marker": {
             "colorbar": {
              "outlinewidth": 0,
              "ticks": ""
             }
            },
            "type": "scatterpolargl"
           }
          ],
          "scatterternary": [
           {
            "marker": {
             "colorbar": {
              "outlinewidth": 0,
              "ticks": ""
             }
            },
            "type": "scatterternary"
           }
          ],
          "surface": [
           {
            "colorbar": {
             "outlinewidth": 0,
             "ticks": ""
            },
            "colorscale": [
             [
              0,
              "#0d0887"
             ],
             [
              0.1111111111111111,
              "#46039f"
             ],
             [
              0.2222222222222222,
              "#7201a8"
             ],
             [
              0.3333333333333333,
              "#9c179e"
             ],
             [
              0.4444444444444444,
              "#bd3786"
             ],
             [
              0.5555555555555556,
              "#d8576b"
             ],
             [
              0.6666666666666666,
              "#ed7953"
             ],
             [
              0.7777777777777778,
              "#fb9f3a"
             ],
             [
              0.8888888888888888,
              "#fdca26"
             ],
             [
              1,
              "#f0f921"
             ]
            ],
            "type": "surface"
           }
          ],
          "table": [
           {
            "cells": {
             "fill": {
              "color": "#506784"
             },
             "line": {
              "color": "rgb(17,17,17)"
             }
            },
            "header": {
             "fill": {
              "color": "#2a3f5f"
             },
             "line": {
              "color": "rgb(17,17,17)"
             }
            },
            "type": "table"
           }
          ]
         },
         "layout": {
          "annotationdefaults": {
           "arrowcolor": "#f2f5fa",
           "arrowhead": 0,
           "arrowwidth": 1
          },
          "autotypenumbers": "strict",
          "coloraxis": {
           "colorbar": {
            "outlinewidth": 0,
            "ticks": ""
           }
          },
          "colorscale": {
           "diverging": [
            [
             0,
             "#8e0152"
            ],
            [
             0.1,
             "#c51b7d"
            ],
            [
             0.2,
             "#de77ae"
            ],
            [
             0.3,
             "#f1b6da"
            ],
            [
             0.4,
             "#fde0ef"
            ],
            [
             0.5,
             "#f7f7f7"
            ],
            [
             0.6,
             "#e6f5d0"
            ],
            [
             0.7,
             "#b8e186"
            ],
            [
             0.8,
             "#7fbc41"
            ],
            [
             0.9,
             "#4d9221"
            ],
            [
             1,
             "#276419"
            ]
           ],
           "sequential": [
            [
             0,
             "#0d0887"
            ],
            [
             0.1111111111111111,
             "#46039f"
            ],
            [
             0.2222222222222222,
             "#7201a8"
            ],
            [
             0.3333333333333333,
             "#9c179e"
            ],
            [
             0.4444444444444444,
             "#bd3786"
            ],
            [
             0.5555555555555556,
             "#d8576b"
            ],
            [
             0.6666666666666666,
             "#ed7953"
            ],
            [
             0.7777777777777778,
             "#fb9f3a"
            ],
            [
             0.8888888888888888,
             "#fdca26"
            ],
            [
             1,
             "#f0f921"
            ]
           ],
           "sequentialminus": [
            [
             0,
             "#0d0887"
            ],
            [
             0.1111111111111111,
             "#46039f"
            ],
            [
             0.2222222222222222,
             "#7201a8"
            ],
            [
             0.3333333333333333,
             "#9c179e"
            ],
            [
             0.4444444444444444,
             "#bd3786"
            ],
            [
             0.5555555555555556,
             "#d8576b"
            ],
            [
             0.6666666666666666,
             "#ed7953"
            ],
            [
             0.7777777777777778,
             "#fb9f3a"
            ],
            [
             0.8888888888888888,
             "#fdca26"
            ],
            [
             1,
             "#f0f921"
            ]
           ]
          },
          "colorway": [
           "#636efa",
           "#EF553B",
           "#00cc96",
           "#ab63fa",
           "#FFA15A",
           "#19d3f3",
           "#FF6692",
           "#B6E880",
           "#FF97FF",
           "#FECB52"
          ],
          "font": {
           "color": "#f2f5fa"
          },
          "geo": {
           "bgcolor": "rgb(17,17,17)",
           "lakecolor": "rgb(17,17,17)",
           "landcolor": "rgb(17,17,17)",
           "showlakes": true,
           "showland": true,
           "subunitcolor": "#506784"
          },
          "hoverlabel": {
           "align": "left"
          },
          "hovermode": "closest",
          "mapbox": {
           "style": "dark"
          },
          "paper_bgcolor": "rgb(17,17,17)",
          "plot_bgcolor": "rgb(17,17,17)",
          "polar": {
           "angularaxis": {
            "gridcolor": "#506784",
            "linecolor": "#506784",
            "ticks": ""
           },
           "bgcolor": "rgb(17,17,17)",
           "radialaxis": {
            "gridcolor": "#506784",
            "linecolor": "#506784",
            "ticks": ""
           }
          },
          "scene": {
           "xaxis": {
            "backgroundcolor": "rgb(17,17,17)",
            "gridcolor": "#506784",
            "gridwidth": 2,
            "linecolor": "#506784",
            "showbackground": true,
            "ticks": "",
            "zerolinecolor": "#C8D4E3"
           },
           "yaxis": {
            "backgroundcolor": "rgb(17,17,17)",
            "gridcolor": "#506784",
            "gridwidth": 2,
            "linecolor": "#506784",
            "showbackground": true,
            "ticks": "",
            "zerolinecolor": "#C8D4E3"
           },
           "zaxis": {
            "backgroundcolor": "rgb(17,17,17)",
            "gridcolor": "#506784",
            "gridwidth": 2,
            "linecolor": "#506784",
            "showbackground": true,
            "ticks": "",
            "zerolinecolor": "#C8D4E3"
           }
          },
          "shapedefaults": {
           "line": {
            "color": "#f2f5fa"
           }
          },
          "sliderdefaults": {
           "bgcolor": "#C8D4E3",
           "bordercolor": "rgb(17,17,17)",
           "borderwidth": 1,
           "tickwidth": 0
          },
          "ternary": {
           "aaxis": {
            "gridcolor": "#506784",
            "linecolor": "#506784",
            "ticks": ""
           },
           "baxis": {
            "gridcolor": "#506784",
            "linecolor": "#506784",
            "ticks": ""
           },
           "bgcolor": "rgb(17,17,17)",
           "caxis": {
            "gridcolor": "#506784",
            "linecolor": "#506784",
            "ticks": ""
           }
          },
          "title": {
           "x": 0.05
          },
          "updatemenudefaults": {
           "bgcolor": "#506784",
           "borderwidth": 0
          },
          "xaxis": {
           "automargin": true,
           "gridcolor": "#283442",
           "linecolor": "#506784",
           "ticks": "",
           "title": {
            "standoff": 15
           },
           "zerolinecolor": "#283442",
           "zerolinewidth": 2
          },
          "yaxis": {
           "automargin": true,
           "gridcolor": "#283442",
           "linecolor": "#506784",
           "ticks": "",
           "title": {
            "standoff": 15
           },
           "zerolinecolor": "#283442",
           "zerolinewidth": 2
          }
         }
        },
        "title": {
         "text": "Mi portafolio"
        },
        "xaxis": {
         "anchor": "y",
         "domain": [
          0,
          0.45
         ]
        },
        "xaxis2": {
         "anchor": "y2",
         "domain": [
          0.55,
          1
         ]
        },
        "yaxis": {
         "anchor": "x",
         "domain": [
          0,
          0.45
         ]
        },
        "yaxis2": {
         "anchor": "x2",
         "domain": [
          0,
          0.45
         ]
        }
       }
      }
     },
     "metadata": {},
     "output_type": "display_data"
    }
   ],
   "source": [
    "import requests\n",
    "import pandas as pd\n",
    "import json\n",
    "import plotly.express as px\n",
    "from plotly.subplots import make_subplots\n",
    "\n",
    "# Obtenemos las claves de acceso a la API\n",
    "url = \"https://api.invertironline.com/token\"\n",
    "\n",
    "payload = 'username={tu_usuario}&password={tu_contraseña}*&grant_type=password'\n",
    "headers = {\n",
    "  'Content-Type': 'application/x-www-form-urlencoded',\n",
    "  'Cookie': '1ea603=90N+IRNhzS+ZAlji2JeWwwFHYqnB5ZldfmpPr25mmXPfJx3JyDKWDLm2ANNR0cnLgvJJGe0qOY6g/L/4ppP/uvsPRie6OCjdqveFKwQxSr1ezBsEsymWYUkPcg9hDa8WUnpyEbGvdOsRU3DCvgzlkClGmeRHinBuMlRNLwRye7fv0V3+'\n",
    "}\n",
    "\n",
    "response = requests.request(\"POST\", url, headers=headers, data=payload)\n",
    "# Convertimos la respuesta a JSON\n",
    "response_json = response.json()\n",
    "\n",
    "# KEYS\n",
    "bearer_token = response_json[\"access_token\"]\n",
    "refresh_token = response_json[\"refresh_token\"]\n",
    "\n",
    "try:\n",
    "    url = \"https://api.invertironline.com/api/portafolio\"\n",
    "\n",
    "    payload = {}\n",
    "    headers = {\n",
    "    'Authorization': f\"Bearer {bearer_token}\",\n",
    "    'Cookie': '1ea603=5qKTn+1drTePYyM4PtURnV5nPh4UJIvPk+LaeimycJoK3WjrL4qjWlt9oRKXSMDgE9wnQ1eidll6g3hpm+TUvkl6UXgeRnGxxb7KDQTAFTZp3Xx0KPEtP7CC8d7rKmtYrPO2rNJywJ3qgQbnBpcG4o463FxwUWOptCxodnPU9XkAfRTT'\n",
    "    }\n",
    "\n",
    "    response_json = requests.request(\"GET\", url, headers=headers, data=payload).json()\n",
    "\n",
    "    portafolio_json = json.dumps(response_json, indent=2)\n",
    "\n",
    "except Exception as e:\n",
    "    print(f\"Error al obtener el portafolio: {e}\")\n",
    "\n",
    "ticket = []\n",
    "tipo = []\n",
    "cantidad = []\n",
    "ultimo_precio = []\n",
    "ganancia_porcentual = []\n",
    "ganancia_monetaria = []\n",
    "valor_total = []\n",
    "\n",
    "data = json.loads(portafolio_json)\n",
    "\n",
    "activos = data[\"activos\"]\n",
    "\n",
    "for activo in activos:\n",
    "    \n",
    "    ticket1 = activo[\"titulo\"][\"simbolo\"]\n",
    "    ticket.append(ticket1)\n",
    "    \n",
    "    tipo1 = activo[\"titulo\"][\"tipo\"]\n",
    "    tipo.append(tipo1)\n",
    "    \n",
    "    cantidad1 = activo[\"cantidad\"]\n",
    "    cantidad.append(cantidad1)\n",
    "    \n",
    "    ultimo_precio1 = activo[\"ultimoPrecio\"]\n",
    "    ultimo_precio.append(ultimo_precio1)\n",
    "    \n",
    "    ganancia_porcentual1 = activo[\"gananciaPorcentaje\"]\n",
    "    ganancia_porcentual.append(ganancia_porcentual1)\n",
    "    \n",
    "    ganancia_monetaria1 = activo[\"gananciaDinero\"]\n",
    "    ganancia_monetaria.append(ganancia_monetaria1)\n",
    "    \n",
    "    valor_total1 = activo[\"valorizado\"]\n",
    "    valor_total.append(valor_total1)\n",
    "    \n",
    "portafolio_df = pd.DataFrame({\n",
    "    \"ticket\" : ticket, \n",
    "    \"tipo\" : tipo,\n",
    "    \"cantidad\" : cantidad, \n",
    "    \"ultimo_precio\" : ultimo_precio, \n",
    "    \"ganancia_porcentual\" : ganancia_porcentual, \n",
    "    \"ganancia_monetaria\" : ganancia_monetaria, \n",
    "    \"valor_total\" : valor_total \n",
    "})\n",
    "\n",
    "compo_portafolio = px.pie(portafolio_df, \n",
    "                          names='tipo', \n",
    "                          values='valor_total')\n",
    "\n",
    "ganancia_por_tipo = px.bar(portafolio_df,\n",
    "                           x=\"tipo\",  # Agrupación por tipo de activo\n",
    "                           y=\"ganancia_porcentual\",\n",
    "                           color=\"ticket\",  # Diferenciar cada activo\n",
    "                           barmode=\"group\",  # Barras agrupadas\n",
    "                           color_discrete_sequence=px.colors.qualitative.Set1,\n",
    "                           text=\"ticket\")\n",
    "ganancia_por_tipo.update_traces(textfont_size=12, textangle=0, textposition=\"inside\", cliponaxis=False)\n",
    "ganancia_por_tipo.update_layout(bargap=0.2)\n",
    "\n",
    "ganancia_por_ticket = px.bar(portafolio_df,\n",
    "                       x=\"ticket\",\n",
    "                       y=\"ganancia_monetaria\",\n",
    "                       color=\"ticket\")\n",
    "ganancia_por_ticket.update_layout(bargap=0.1) \n",
    "\n",
    "# Crear el subplot\n",
    "fig_informe = make_subplots(\n",
    "    rows=2, cols=2,\n",
    "    specs=[[{\"type\": \"pie\"}, None], [{\"type\": \"bar\"}, {\"type\": \"bar\"}]],\n",
    "    subplot_titles=(\"Composición del portafolio\", \"Ganancia % por tipo de activo\", \"Ganancia monetaria por ticket\"),\n",
    "    horizontal_spacing=0.1,\n",
    "    vertical_spacing=0.1\n",
    ")\n",
    "\n",
    "# Ajustar la distancia entre los títulos de los subplots y los gráficos\n",
    "for annotation in fig_informe['layout']['annotations']:\n",
    "    annotation['y'] += 0.02  # Ajusta hacia arriba (incrementa) o hacia abajo (disminuye)\n",
    "    annotation['font'] = dict(size=15, color=\"white\", family=\"Arial\")  # Personalización opcional\n",
    "\n",
    "\n",
    "# Añadir la traza del pie chart al subplot (mostrar leyenda solo aquí)\n",
    "compo_portafolio.data[0]['showlegend'] = True  # Mostrar leyenda del pie chart\n",
    "fig_informe.add_trace(compo_portafolio.data[0], row=1, col=1)\n",
    "\n",
    "# Añadir trazas del barplot Ganancia % por tipo (ocultar leyenda)\n",
    "for tipo in ganancia_por_tipo.data:\n",
    "    tipo['showlegend'] = False  # Ocultar leyenda de cada traza\n",
    "    fig_informe.add_trace(tipo, row=2, col=1)\n",
    "\n",
    "# Añadir trazas del barplot Ganancia monetaria por ticket (ocultar leyenda)\n",
    "for tick in ganancia_por_ticket.data:\n",
    "    tick['showlegend'] = False  # Ocultar leyenda de cada traza\n",
    "    fig_informe.add_trace(tick, row=2, col=2)\n",
    "\n",
    "# Configuración general del layout\n",
    "fig_informe.update_layout(\n",
    "    title_text=\"Mi portafolio\",\n",
    "    height=800,\n",
    "    template=\"plotly_dark\",\n",
    "    legend=dict(\n",
    "        title=\"Tipos de Activo\",  # Título de la leyenda\n",
    "        x=0.6,  # Posición horizontal\n",
    "        y=0.9,  # Posición vertical\n",
    "        font=dict(\n",
    "            size=12,\n",
    "            color=\"white\",\n",
    "            family=\"Arial\"),\n",
    "        bgcolor=\"rgba(0, 0, 0, 0.5)\",\n",
    "        bordercolor=\"white\",\n",
    "        borderwidth=0.5,\n",
    "        orientation=\"v\"\n",
    "    ),\n",
    "    bargap=0.0,\n",
    "    bargroupgap=0.1\n",
    ")\n",
    "\n",
    "# Mostrar el gráfico\n",
    "fig_informe.show()"
   ]
  }
 ],
 "metadata": {
  "kernelspec": {
   "display_name": ".bolsa_venv",
   "language": "python",
   "name": "python3"
  },
  "language_info": {
   "codemirror_mode": {
    "name": "ipython",
    "version": 3
   },
   "file_extension": ".py",
   "mimetype": "text/x-python",
   "name": "python",
   "nbconvert_exporter": "python",
   "pygments_lexer": "ipython3",
   "version": "3.11.4"
  }
 },
 "nbformat": 4,
 "nbformat_minor": 2
}
